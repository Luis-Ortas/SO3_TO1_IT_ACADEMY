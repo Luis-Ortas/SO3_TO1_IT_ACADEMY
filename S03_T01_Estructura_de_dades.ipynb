{
 "cells": [
  {
   "cell_type": "markdown",
   "id": "4809c3fc",
   "metadata": {},
   "source": [
    "# Nivell 1\n",
    "***"
   ]
  },
  {
   "cell_type": "markdown",
   "id": "a3b00bb3",
   "metadata": {},
   "source": [
    "## Exercici 1\n",
    "*Crea una llista que agrupi els mesos de l’any en trimestres (1T: Gener, Febrer i Març, 2T: Abril, Maig, Juny...), és a dir, una llista amb 4 llistes dins.*"
   ]
  },
  {
   "cell_type": "code",
   "execution_count": 1,
   "id": "9fbc81d0",
   "metadata": {},
   "outputs": [
    {
     "name": "stdout",
     "output_type": "stream",
     "text": [
      "[['Gener', 'Febrer', 'Març'], ['Abril', 'Maig', 'Juny'], ['Juliol', 'Agost', 'Septembre'], ['Octubre', 'Novembre', 'Desembre']]\n",
      "[['Gener', 'Febrer', 'Març'], ['Abril', 'Maig', 'Juny'], ['Juliol', 'Agost', 'Septembre']]\n",
      "Febrer\n",
      "Abril\n",
      "Juny\n",
      "Desembre\n",
      "['Octubre', 'Novembre']\n"
     ]
    }
   ],
   "source": [
    "t1=[\"Gener\", \"Febrer\", \"Març\"]\n",
    "t2=[\"Abril\", \"Maig\", \"Juny\"]\n",
    "t3=[\"Juliol\", \"Agost\", \"Septembre\"]\n",
    "t4=[\"Octubre\", \"Novembre\", \"Desembre\"]\n",
    "\n",
    "any=[t1,t2,t3,t4]\n",
    "\n",
    "print(any) # Imprimimos la lista entera.\n",
    "print(any[0:3])\n",
    "print(any[0][1])\n",
    "print(any[1][0])\n",
    "print(any[1][2])\n",
    "print(any[3][2])\n",
    "print(any[3][0:2])\n"
   ]
  },
  {
   "cell_type": "markdown",
   "id": "d4f3b64b",
   "metadata": {},
   "source": [
    "## Exercici 2\n",
    "\n",
    "*Crea un codi que et permeti accedir a:*\n",
    "\n",
    "* El segon mes del primer trimestre\n",
    "\n",
    "\n"
   ]
  },
  {
   "cell_type": "code",
   "execution_count": 2,
   "id": "f0193c65",
   "metadata": {},
   "outputs": [
    {
     "name": "stdout",
     "output_type": "stream",
     "text": [
      "Febrer\n"
     ]
    }
   ],
   "source": [
    "# Segon mes del primer timestre\n",
    "\n",
    "print(any[0][1])"
   ]
  },
  {
   "cell_type": "markdown",
   "id": "c8b41e76",
   "metadata": {},
   "source": [
    "* Els mesos del primer trimestre\n",
    "\n"
   ]
  },
  {
   "cell_type": "code",
   "execution_count": 3,
   "id": "913c4ab6",
   "metadata": {},
   "outputs": [
    {
     "name": "stdout",
     "output_type": "stream",
     "text": [
      "['Abril', 'Maig', 'Juny']\n",
      "['Abril', 'Maig', 'Juny']\n"
     ]
    }
   ],
   "source": [
    "# Els mesos del primer trimestre\n",
    "\n",
    "print(t2)\n",
    "\n",
    "# O\n",
    "\n",
    "print(any[1])"
   ]
  },
  {
   "cell_type": "markdown",
   "id": "f8208065",
   "metadata": {},
   "source": [
    "* Setembre i octubre"
   ]
  },
  {
   "cell_type": "code",
   "execution_count": 4,
   "id": "063bc18d",
   "metadata": {},
   "outputs": [
    {
     "name": "stdout",
     "output_type": "stream",
     "text": [
      "Septembre\n",
      "Octubre\n",
      "['Septembre', 'Octubre']\n"
     ]
    }
   ],
   "source": [
    "# Setembre i octubre\n",
    "\n",
    "print(any[2][2])\n",
    "print(any[3][0])\n",
    "\n",
    "# imprimim la llista formada per Septembrei Octubre\n",
    "\n",
    "print([any[2][2],any[3][0]])\n",
    "\n"
   ]
  },
  {
   "cell_type": "markdown",
   "id": "8079acd1",
   "metadata": {},
   "source": [
    "## Exercici 3\n",
    "\n",
    "*Crea una llista amb nombres desordenats i respon a les següents preguntes:*\n",
    "\n",
    "* Quants números hi ha?\n",
    "* Quantes vegades apareix el número 3\n",
    "* Quantes vegades apareixen els nombres 3 i 4?\n",
    "* Quin és el número més gran?\n",
    "* Quins són els 3 números més petits?\n",
    "* Quin és el rang d’aquesta llista?"
   ]
  },
  {
   "cell_type": "code",
   "execution_count": 5,
   "id": "a0ff775e",
   "metadata": {},
   "outputs": [
    {
     "name": "stdout",
     "output_type": "stream",
     "text": [
      "[3, 9, 2, 6]\n"
     ]
    }
   ],
   "source": [
    "# creamos una lista con elemtos del 1 al 10 y c0on un numero de digitos del 3 al 10\n",
    "\n",
    "import random\n",
    "\n",
    "def listaAleatorios():\n",
    "    n=round(random.uniform(3,10))\n",
    "    lista = []\n",
    "\n",
    "    for i in range(n):\n",
    "        \n",
    "        lista.append(round(random.uniform(1,10)))\n",
    "    return lista\n",
    "\n",
    "lista=listaAleatorios()\n",
    "print(lista)\n",
    "\n",
    "\n"
   ]
  },
  {
   "cell_type": "markdown",
   "id": "6b18555e",
   "metadata": {},
   "source": [
    "* Quants números hi ha?"
   ]
  },
  {
   "cell_type": "code",
   "execution_count": 6,
   "id": "bba16d06",
   "metadata": {},
   "outputs": [
    {
     "name": "stdout",
     "output_type": "stream",
     "text": [
      "Hay  4  numeros en lista.\n"
     ]
    }
   ],
   "source": [
    "# Quants números hi ha\n",
    "\n",
    "print(\"Hay \", len(lista), \" numeros en lista.\")\n",
    "\n"
   ]
  },
  {
   "cell_type": "markdown",
   "id": "8ff38431",
   "metadata": {},
   "source": [
    "* Quantes vegades apareix el número 3"
   ]
  },
  {
   "cell_type": "code",
   "execution_count": 7,
   "id": "3b0ea94c",
   "metadata": {},
   "outputs": [
    {
     "name": "stdout",
     "output_type": "stream",
     "text": [
      "EL numero 3 aparece  1  veces.\n"
     ]
    }
   ],
   "source": [
    "# Cuantas veces aparece el número 3\n",
    "\n",
    "print(\"EL numero 3 aparece \",lista.count(3),\" veces.\")\n"
   ]
  },
  {
   "cell_type": "markdown",
   "id": "e822c0ac",
   "metadata": {},
   "source": [
    "* Quantes vegades apareixen els nombres 3 i 4?"
   ]
  },
  {
   "cell_type": "code",
   "execution_count": 8,
   "id": "231ff3c9",
   "metadata": {},
   "outputs": [
    {
     "name": "stdout",
     "output_type": "stream",
     "text": [
      "EL numero 3 y 4 aparecen  1  veces.\n"
     ]
    }
   ],
   "source": [
    "# Cuantas veces aparece el número 3 y 4\n",
    "\n",
    "tres=lista.count(3)\n",
    "cuatro=lista.count(4)\n",
    "tresycuatro=tres+cuatro\n",
    "print(\"EL numero 3 y 4 aparecen \",tresycuatro,\" veces.\")\n",
    "\n"
   ]
  },
  {
   "cell_type": "markdown",
   "id": "9de9375b",
   "metadata": {},
   "source": [
    "* Quin és el número més gran?"
   ]
  },
  {
   "cell_type": "code",
   "execution_count": 9,
   "id": "264a0c10",
   "metadata": {},
   "outputs": [
    {
     "name": "stdout",
     "output_type": "stream",
     "text": [
      "El número más grande de lista es el  9\n"
     ]
    }
   ],
   "source": [
    "# Quin és el número més gran?\n",
    "\n",
    "print(\"El número más grande de lista es el \", max(lista))\n",
    "\n",
    "\n"
   ]
  },
  {
   "cell_type": "markdown",
   "id": "7ab1ab9f",
   "metadata": {},
   "source": [
    "* Quins són els 3 números més petits?"
   ]
  },
  {
   "cell_type": "code",
   "execution_count": 21,
   "id": "e39929b3",
   "metadata": {},
   "outputs": [
    {
     "name": "stdout",
     "output_type": "stream",
     "text": [
      "[2, 3, 6]\n",
      "Los tres numeros más pequemos son  [2, 3, 6]\n"
     ]
    }
   ],
   "source": [
    "# 3 numero más pequeños\n",
    "\n",
    "lista.sort()\n",
    "\n",
    "print(lista[0:3])\n",
    "\n",
    "#Manera alternativa\n",
    "\n",
    "minimos=[]\n",
    "\n",
    "listaOp = lista.copy() ## utilizamos copy para que no se vea afecada \"lista\"\n",
    "\n",
    "\n",
    "if len(listaOp)>=3:\n",
    "    n=3\n",
    "else:\n",
    "    n=len(listaOp)\n",
    "    \n",
    "for i in range(n):\n",
    "\n",
    "    minimos.append(min(listaOp))\n",
    "       \n",
    "    listaOp.remove(min(listaOp))\n",
    " \n",
    "    \n",
    "print(\"Los tres numeros más pequemos son \", minimos)\n"
   ]
  },
  {
   "cell_type": "markdown",
   "id": "9b4e3ab3",
   "metadata": {},
   "source": [
    "*Utilizamos dos formas:*\n",
    "\n",
    "1. Ordenamos la lista mediante el metodo sort(). Seleccionamos los tres primeros elementos\n",
    "\n",
    "2. A partir de una copia de \"lista\". iteramos tres veces:\n",
    "\n",
    "    1. Averiguamos el minimo\n",
    "    \n",
    "    2. Lo introducimos en una lista \"minimos\"\n",
    "    \n",
    "    3. lo eliminamos de la lista copiada"
   ]
  },
  {
   "cell_type": "markdown",
   "id": "22b079ea",
   "metadata": {},
   "source": [
    "## Exercici 4\n",
    "*Crea un diccionari de la següent forma i respon a les preguntes:]\n",
    "\n",
    "**compra = { \"Pomes\" : {\"Qty\": 5, \"€\": 0.42}, \"Peres\" : {\"Qty\": 3, \"€\": 0.66} }**\n",
    "\n",
    "* Afegeix alguna fruita més\n",
    "\n",
    "* Quant han costat les peres en total?\n",
    "* Quantes fruites hem comprat en total?\n",
    "* Quina és la fruita més cara?"
   ]
  },
  {
   "cell_type": "code",
   "execution_count": 11,
   "id": "21caf7ca",
   "metadata": {},
   "outputs": [],
   "source": [
    "compra = { \"Pomes\" : {\"Qty\": 5, \"€\": 0.42}, \"Peres\" : {\"Qty\": 3, \"€\": 0.66} }\n"
   ]
  },
  {
   "cell_type": "markdown",
   "id": "4de7ac72",
   "metadata": {},
   "source": [
    "* Afegeix alguna fruita més"
   ]
  },
  {
   "cell_type": "code",
   "execution_count": 23,
   "id": "b59866fd",
   "metadata": {},
   "outputs": [
    {
     "name": "stdout",
     "output_type": "stream",
     "text": [
      "{'Pomes': {'Qty': 5, '€': 0.42}, 'Peres': {'Qty': 3, '€': 0.66}, 'Kiwis': {'Qty': 4, '€': 1.25}, 'Melone': {'Qty': 2, '€': 2}}\n"
     ]
    }
   ],
   "source": [
    "compra[\"Kiwis\"]={\"Qty\":4,\"€\":1.25}\n",
    "compra[\"Melones\"]={\"Qty\":2, \"€\":2}\n",
    "\n",
    "print(compra)"
   ]
  },
  {
   "cell_type": "markdown",
   "id": "d5597d0e",
   "metadata": {},
   "source": [
    "* Quant han costat les peres en total?"
   ]
  },
  {
   "cell_type": "code",
   "execution_count": 14,
   "id": "b27dcbc7",
   "metadata": {},
   "outputs": [
    {
     "name": "stdout",
     "output_type": "stream",
     "text": [
      "{'Qty': 3, '€': 0.66}\n",
      "1.98\n"
     ]
    }
   ],
   "source": [
    "\n",
    "peres=compra[\"Peres\"]\n",
    "print(peres)\n",
    "costTotal=1\n",
    "\n",
    "for key in peres:\n",
    "   \n",
    "    costTotal=peres[key]*costTotal\n",
    "    \n",
    "\n",
    "print(costTotal)\n",
    "    "
   ]
  },
  {
   "cell_type": "code",
   "execution_count": 15,
   "id": "ef1a0536",
   "metadata": {},
   "outputs": [
    {
     "name": "stdout",
     "output_type": "stream",
     "text": [
      "12\n"
     ]
    }
   ],
   "source": [
    "total=0\n",
    "for frutas in compra:\n",
    "    total=compra[frutas][\"Qty\"]+total\n",
    "print(total)\n",
    "    "
   ]
  },
  {
   "cell_type": "code",
   "execution_count": 16,
   "id": "d997bb0c",
   "metadata": {},
   "outputs": [
    {
     "name": "stdout",
     "output_type": "stream",
     "text": [
      "1.25\n"
     ]
    }
   ],
   "source": [
    "precio=[]\n",
    "for fruta in compra:\n",
    "    precio.append(compra[fruta][\"€\"])\n",
    "print(max(precio))"
   ]
  },
  {
   "cell_type": "code",
   "execution_count": 17,
   "id": "96cc0126",
   "metadata": {},
   "outputs": [],
   "source": [
    "keys=compra.keys()"
   ]
  },
  {
   "cell_type": "code",
   "execution_count": 18,
   "id": "46ff7fa1",
   "metadata": {},
   "outputs": [
    {
     "data": {
      "text/plain": [
       "dict_keys(['Pomes', 'Peres', 'Kiwis'])"
      ]
     },
     "execution_count": 18,
     "metadata": {},
     "output_type": "execute_result"
    }
   ],
   "source": [
    "keys"
   ]
  },
  {
   "cell_type": "code",
   "execution_count": 19,
   "id": "6c54972a",
   "metadata": {},
   "outputs": [
    {
     "data": {
      "text/plain": [
       "dict_keys"
      ]
     },
     "execution_count": 19,
     "metadata": {},
     "output_type": "execute_result"
    }
   ],
   "source": [
    "type(keys)"
   ]
  },
  {
   "cell_type": "code",
   "execution_count": 20,
   "id": "32e0c250",
   "metadata": {},
   "outputs": [
    {
     "name": "stdout",
     "output_type": "stream",
     "text": [
      "Kiwis  tiene precio de  1.25  y es el precio máximo\n"
     ]
    }
   ],
   "source": [
    "precio=[]\n",
    "\n",
    "for fruta in compra:\n",
    "    precio.append(compra[fruta][\"€\"])\n",
    "for fruta in compra:\n",
    "    if compra[fruta]['€']==max(precio):\n",
    "        print(fruta, \" tiene precio de \", max(precio), \" y es el precio máximo\")\n"
   ]
  }
 ],
 "metadata": {
  "kernelspec": {
   "display_name": "Python 3",
   "language": "python",
   "name": "python3"
  },
  "language_info": {
   "codemirror_mode": {
    "name": "ipython",
    "version": 3
   },
   "file_extension": ".py",
   "mimetype": "text/x-python",
   "name": "python",
   "nbconvert_exporter": "python",
   "pygments_lexer": "ipython3",
   "version": "3.8.8"
  }
 },
 "nbformat": 4,
 "nbformat_minor": 5
}
