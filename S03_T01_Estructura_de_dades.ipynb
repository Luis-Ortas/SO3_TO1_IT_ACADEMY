{
 "cells": [
  {
   "cell_type": "markdown",
   "id": "4809c3fc",
   "metadata": {},
   "source": [
    "# Nivell 1\n",
    "***"
   ]
  },
  {
   "cell_type": "markdown",
   "id": "a3b00bb3",
   "metadata": {},
   "source": [
    "## Exercici 1\n",
    "*Crea una llista que agrupi els mesos de l’any en trimestres (1T: Gener, Febrer i Març, 2T: Abril, Maig, Juny...), és a dir, una llista amb 4 llistes dins.*"
   ]
  },
  {
   "cell_type": "code",
   "execution_count": 1,
   "id": "9fbc81d0",
   "metadata": {},
   "outputs": [
    {
     "name": "stdout",
     "output_type": "stream",
     "text": [
      "[['Gener', 'Febrer', 'Març'], ['Abril', 'Maig', 'Juny'], ['Juliol', 'Agost', 'Septembre'], ['Octubre', 'Novembre', 'Desembre']]\n"
     ]
    }
   ],
   "source": [
    "t1=[\"Gener\", \"Febrer\", \"Març\"]\n",
    "t2=[\"Abril\", \"Maig\", \"Juny\"]\n",
    "t3=[\"Juliol\", \"Agost\", \"Septembre\"]\n",
    "t4=[\"Octubre\", \"Novembre\", \"Desembre\"]\n",
    "\n",
    "any=[t1,t2,t3,t4]\n",
    "print(any)"
   ]
  },
  {
   "cell_type": "markdown",
   "id": "d4f3b64b",
   "metadata": {},
   "source": [
    "***\n",
    "## Exercici 2\n",
    "\n",
    "*Crea un codi que et permeti accedir a:*\n",
    "\n",
    "* El segon mes del primer trimestre\n",
    "\n",
    "\n"
   ]
  },
  {
   "cell_type": "code",
   "execution_count": 2,
   "id": "f0193c65",
   "metadata": {},
   "outputs": [
    {
     "name": "stdout",
     "output_type": "stream",
     "text": [
      "Febrer\n"
     ]
    }
   ],
   "source": [
    "# Segon mes del primer timestre\n",
    "\n",
    "print(any[0][1])"
   ]
  },
  {
   "cell_type": "markdown",
   "id": "c8b41e76",
   "metadata": {},
   "source": [
    "* Els mesos del primer trimestre\n",
    "\n"
   ]
  },
  {
   "cell_type": "code",
   "execution_count": 3,
   "id": "913c4ab6",
   "metadata": {},
   "outputs": [
    {
     "name": "stdout",
     "output_type": "stream",
     "text": [
      "['Gener', 'Febrer', 'Març']\n",
      "['Gener', 'Febrer', 'Març']\n",
      "Los meses del primer trimestre son Gener, Febrer y Març\n"
     ]
    }
   ],
   "source": [
    "# Els mesos del primer trimestre\n",
    "\n",
    "print(t1)\n",
    "\n",
    "# O\n",
    "\n",
    "print(any[0])\n",
    "\n",
    "\n",
    "print(f\"Los meses del primer trimestre son {any[0][0]}, {any[0][1]} y {any[0][2]}\")"
   ]
  },
  {
   "cell_type": "markdown",
   "id": "f8208065",
   "metadata": {},
   "source": [
    "* Setembre i octubre"
   ]
  },
  {
   "cell_type": "code",
   "execution_count": 4,
   "id": "063bc18d",
   "metadata": {},
   "outputs": [
    {
     "name": "stdout",
     "output_type": "stream",
     "text": [
      "Septembre\n",
      "Octubre\n",
      "['Septembre', 'Octubre']\n",
      "Septembre i Octubre\n"
     ]
    }
   ],
   "source": [
    "# Setembre i octubre\n",
    "\n",
    "print(any[2][2])\n",
    "print(any[3][0])\n",
    "\n",
    "# imprimim la llista formada per Septembrei Octubre\n",
    "\n",
    "print([any[2][2],any[3][0]])\n",
    "\n",
    "# imprimimos texto\n",
    "\n",
    "\n",
    "print(f'{any[2][2]} i {any[3][0]}')\n",
    "\n"
   ]
  },
  {
   "cell_type": "markdown",
   "id": "8079acd1",
   "metadata": {},
   "source": [
    "***\n",
    "## Exercici 3\n",
    "\n",
    "*Crea una llista amb nombres desordenats i respon a les següents preguntes:*\n",
    "\n",
    "* Quants números hi ha?\n",
    "* Quantes vegades apareix el número 3\n",
    "* Quantes vegades apareixen els nombres 3 i 4?\n",
    "* Quin és el número més gran?\n",
    "* Quins són els 3 números més petits?\n",
    "* Quin és el rang d’aquesta llista?"
   ]
  },
  {
   "cell_type": "code",
   "execution_count": 20,
   "id": "a0ff775e",
   "metadata": {},
   "outputs": [
    {
     "name": "stdout",
     "output_type": "stream",
     "text": [
      "La lista \"lista\" tiene los siguientes elementos [2, 5, 3, 7, 1, 8, 3, 9, 8, 9]\n"
     ]
    }
   ],
   "source": [
    "# creamos una lista con elemtos del 1 al 10 y con un numero de digitos del 3 al 10\n",
    "\n",
    "import random\n",
    "\n",
    "def listaAleatorios():\n",
    "    n=round(random.uniform(3,10))\n",
    "    lista = []\n",
    "\n",
    "    for i in range(n):\n",
    "        \n",
    "        lista.append(round(random.uniform(1,10)))\n",
    "    return lista\n",
    "\n",
    "lista=listaAleatorios()\n",
    "print(f'La lista \\\"lista\\\" tiene los siguientes elementos {lista}')\n",
    "\n",
    "\n"
   ]
  },
  {
   "cell_type": "markdown",
   "id": "6b18555e",
   "metadata": {},
   "source": [
    "* Quants números hi ha?"
   ]
  },
  {
   "cell_type": "code",
   "execution_count": 21,
   "id": "bba16d06",
   "metadata": {},
   "outputs": [
    {
     "name": "stdout",
     "output_type": "stream",
     "text": [
      " Hay 10 numeros en la lista\n"
     ]
    }
   ],
   "source": [
    "num= len(lista)\n",
    "\n",
    "\n",
    "print(f' Hay {num} numeros en la lista')"
   ]
  },
  {
   "cell_type": "markdown",
   "id": "8ff38431",
   "metadata": {},
   "source": [
    "* Quantes vegades apareix el número 3"
   ]
  },
  {
   "cell_type": "code",
   "execution_count": 22,
   "id": "3b0ea94c",
   "metadata": {},
   "outputs": [
    {
     "name": "stdout",
     "output_type": "stream",
     "text": [
      "El número 3 aparece 2 veces.\n"
     ]
    }
   ],
   "source": [
    "tres=lista.count(3)\n",
    "\n",
    "print(f\"El número 3 aparece {tres} veces.\")\n"
   ]
  },
  {
   "cell_type": "markdown",
   "id": "e822c0ac",
   "metadata": {},
   "source": [
    "* Quantes vegades apareixen els nombres 3 i 4?"
   ]
  },
  {
   "cell_type": "code",
   "execution_count": 34,
   "id": "231ff3c9",
   "metadata": {},
   "outputs": [
    {
     "name": "stdout",
     "output_type": "stream",
     "text": [
      "El numero tres y 4 aparecen 2 veces.\n",
      "El numero tres y 4 aparecen 2 veces\n"
     ]
    }
   ],
   "source": [
    "tres=lista.count(3)\n",
    "cuatro=lista.count(4)\n",
    "\n",
    "print(f'El numero tres y 4 aparecen {tres+cuatro} veces.')\n",
    "\n",
    "# O más directo\n",
    "\n",
    "print(f'El numero tres y 4 aparecen {lista.count(3)+lista.count(4)} veces.')\n",
    "\n"
   ]
  },
  {
   "cell_type": "markdown",
   "id": "9de9375b",
   "metadata": {},
   "source": [
    "* Quin és el número més gran?"
   ]
  },
  {
   "cell_type": "code",
   "execution_count": 35,
   "id": "264a0c10",
   "metadata": {},
   "outputs": [
    {
     "name": "stdout",
     "output_type": "stream",
     "text": [
      "El número mas grande la lista es el 9.\n"
     ]
    }
   ],
   "source": [
    "#print(\"El número más grande de lista es el \", max(lista))\n",
    "\n",
    "print(f'El número mas grande la lista es el {max(lista)}.')\n"
   ]
  },
  {
   "cell_type": "markdown",
   "id": "7ab1ab9f",
   "metadata": {},
   "source": [
    "* Quins són els 3 números més petits?"
   ]
  },
  {
   "cell_type": "code",
   "execution_count": 36,
   "id": "e39929b3",
   "metadata": {},
   "outputs": [
    {
     "name": "stdout",
     "output_type": "stream",
     "text": [
      "Los tres numeros más pequemos son 1, 2 y 3\n",
      "Los tres números más pequeños son 1, 2 y 3\n"
     ]
    }
   ],
   "source": [
    "# 1 manera\n",
    "minimos=[]\n",
    "\n",
    "listaOp = lista.copy() ## utilizamos copy para que no se vea afecada \"lista\"\n",
    "\n",
    "\n",
    "if len(listaOp)>=3:\n",
    "    n=3\n",
    "else:\n",
    "    n=len(listaOp)\n",
    "    \n",
    "for i in range(n):\n",
    "\n",
    "    minimos.append(min(listaOp))\n",
    "       \n",
    "    listaOp.remove(min(listaOp))\n",
    "    \n",
    "print(f\"Los tres numeros más pequemos son {minimos[0]}, {minimos[1]} y {minimos[2]}\")\n",
    "\n",
    "\n",
    "#2 manera \n",
    "\n",
    "lista.sort() # ordenamos la lista\n",
    "\n",
    "\n",
    "print(f'Los tres números más pequeños son {lista[0]}, {lista[1]} y {lista[2]}' )\n"
   ]
  },
  {
   "cell_type": "markdown",
   "id": "9b4e3ab3",
   "metadata": {},
   "source": [
    "*Utilizamos dos formas:*\n",
    "\n",
    "1. A partir de una copia de \"lista\". iteramos tres veces:\n",
    "\n",
    "    1. Averiguamos el minimo\n",
    "    \n",
    "    2. Lo introducimos en una lista \"minimos\"\n",
    "    \n",
    "    3. lo eliminamos de la lista copiada\n",
    "\n",
    "2. Ordenamos la lista mediante el metodo sort(). Seleccionamos los tres primeros elementos\n",
    "\n"
   ]
  },
  {
   "cell_type": "markdown",
   "id": "8f219d87",
   "metadata": {},
   "source": [
    "* Quin és el rang d’aquesta llista?"
   ]
  },
  {
   "cell_type": "code",
   "execution_count": 27,
   "id": "173c32b1",
   "metadata": {},
   "outputs": [
    {
     "name": "stdout",
     "output_type": "stream",
     "text": [
      "[1, 2, 3, 3, 5, 7, 8, 8, 9, 9]\n",
      "El rango de la lista es 8\n"
     ]
    }
   ],
   "source": [
    "print(lista)\n",
    "print(f'El rango de la lista es {max(lista)-min(lista)}')"
   ]
  },
  {
   "cell_type": "markdown",
   "id": "22b079ea",
   "metadata": {},
   "source": [
    "***\n",
    "## Exercici 4\n",
    "*Crea un diccionari de la següent forma i respon a les preguntes:]\n",
    "\n",
    "**compra = { \"Pomes\" : {\"Qty\": 5, \"€\": 0.42}, \"Peres\" : {\"Qty\": 3, \"€\": 0.66} }**\n",
    "\n",
    "* Afegeix alguna fruita més\n",
    "\n",
    "* Quant han costat les peres en total?\n",
    "* Quantes fruites hem comprat en total?\n",
    "* Quina és la fruita més cara?"
   ]
  },
  {
   "cell_type": "code",
   "execution_count": 30,
   "id": "21caf7ca",
   "metadata": {},
   "outputs": [
    {
     "data": {
      "text/plain": [
       "{'Pomes': {'Qty': 5, '€': 0.42}, 'Peres': {'Qty': 3, '€': 0.66}}"
      ]
     },
     "execution_count": 30,
     "metadata": {},
     "output_type": "execute_result"
    }
   ],
   "source": [
    "compra = { \"Pomes\" : {\"Qty\": 5, \"€\": 0.42}, \"Peres\" : {\"Qty\": 3, \"€\": 0.66} }\n",
    "compra"
   ]
  },
  {
   "cell_type": "markdown",
   "id": "4de7ac72",
   "metadata": {},
   "source": [
    "* Afegeix alguna fruita més"
   ]
  },
  {
   "cell_type": "code",
   "execution_count": 31,
   "id": "b59866fd",
   "metadata": {},
   "outputs": [
    {
     "name": "stdout",
     "output_type": "stream",
     "text": [
      "{'Pomes': {'Qty': 5, '€': 0.42}, 'Peres': {'Qty': 3, '€': 0.66}, 'Kiwis': {'Qty': 4, '€': 1.25}, 'Melones': {'Qty': 2, '€': 2}}\n"
     ]
    }
   ],
   "source": [
    "compra[\"Kiwis\"]={\"Qty\":4,\"€\":1.25}\n",
    "compra[\"Melones\"]={\"Qty\":2, \"€\":2}\n",
    "\n",
    "print(compra)"
   ]
  },
  {
   "cell_type": "markdown",
   "id": "d5597d0e",
   "metadata": {},
   "source": [
    "* Quant han costat les peres en total?"
   ]
  },
  {
   "cell_type": "code",
   "execution_count": 14,
   "id": "b27dcbc7",
   "metadata": {},
   "outputs": [
    {
     "name": "stdout",
     "output_type": "stream",
     "text": [
      "{'Qty': 3, '€': 0.66}\n",
      "Les peres han costat 1.98 € en total\n",
      "Les peres han constat 1.98 € en total\n"
     ]
    }
   ],
   "source": [
    "\n",
    "peres=compra[\"Peres\"]\n",
    "\n",
    "print(peres)\n",
    "\n",
    "costTotal=1\n",
    "\n",
    "for key in peres:\n",
    "   \n",
    "    costTotal=peres[key]*costTotal\n",
    "    \n",
    "\n",
    "print(f'Les peres han costat {costTotal} € en total')\n",
    "\n",
    "# o más directamente \n",
    "\n",
    "precioTotal= compra['Peres']['Qty']*compra['Peres']['€']\n",
    "\n",
    "print(f'Les peres han constat {precioTotal} € en total')\n",
    "\n",
    "      \n",
    "\n",
    "    "
   ]
  },
  {
   "cell_type": "markdown",
   "id": "b22e9e99",
   "metadata": {},
   "source": [
    "* Quantes fruites hem comprat en total?"
   ]
  },
  {
   "cell_type": "code",
   "execution_count": 32,
   "id": "ef1a0536",
   "metadata": {},
   "outputs": [
    {
     "name": "stdout",
     "output_type": "stream",
     "text": [
      "Hemos comprado 14 frutas en total\n"
     ]
    }
   ],
   "source": [
    "total=0\n",
    "for frutas in compra:\n",
    "    total=compra[frutas][\"Qty\"]+total\n",
    "print(f'Hemos comprado {total} frutas en total') \n"
   ]
  },
  {
   "cell_type": "markdown",
   "id": "654804cf",
   "metadata": {},
   "source": [
    "* Quina és la fruita més cara?"
   ]
  },
  {
   "cell_type": "code",
   "execution_count": 33,
   "id": "32e0c250",
   "metadata": {},
   "outputs": [
    {
     "name": "stdout",
     "output_type": "stream",
     "text": [
      "El precio de Melones es de 2 € y es el precio más alto.\n"
     ]
    }
   ],
   "source": [
    "precio=[]\n",
    "\n",
    "for fruta in compra:\n",
    "    precio.append(compra[fruta][\"€\"])\n",
    "for fruta in compra:\n",
    "    if compra[fruta]['€']==max(precio):\n",
    "        \n",
    "        print(f'El precio de {fruta} es de {max(precio)} € y es el precio más alto.')\n"
   ]
  }
 ],
 "metadata": {
  "kernelspec": {
   "display_name": "Python 3",
   "language": "python",
   "name": "python3"
  },
  "language_info": {
   "codemirror_mode": {
    "name": "ipython",
    "version": 3
   },
   "file_extension": ".py",
   "mimetype": "text/x-python",
   "name": "python",
   "nbconvert_exporter": "python",
   "pygments_lexer": "ipython3",
   "version": "3.8.8"
  }
 },
 "nbformat": 4,
 "nbformat_minor": 5
}
